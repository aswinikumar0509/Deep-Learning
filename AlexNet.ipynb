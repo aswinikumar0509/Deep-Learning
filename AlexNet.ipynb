{
  "cells": [
    {
      "cell_type": "code",
      "execution_count": 17,
      "metadata": {
        "colab": {
          "base_uri": "https://localhost:8080/"
        },
        "id": "5-01CrZf6PeE",
        "outputId": "850c4642-e1d4-4010-ae92-c8a05521d147"
      },
      "outputs": [
        {
          "output_type": "stream",
          "name": "stdout",
          "text": [
            "Looking in indexes: https://pypi.org/simple, https://us-python.pkg.dev/colab-wheels/public/simple/\n",
            "Requirement already satisfied: tflearn in /usr/local/lib/python3.8/dist-packages (0.5.0)\n",
            "Requirement already satisfied: Pillow in /usr/local/lib/python3.8/dist-packages (from tflearn) (7.1.2)\n",
            "Requirement already satisfied: numpy in /usr/local/lib/python3.8/dist-packages (from tflearn) (1.21.6)\n",
            "Requirement already satisfied: six in /usr/local/lib/python3.8/dist-packages (from tflearn) (1.15.0)\n"
          ]
        }
      ],
      "source": [
        "pip install tflearn"
      ]
    },
    {
      "cell_type": "code",
      "execution_count": 18,
      "metadata": {
        "colab": {
          "base_uri": "https://localhost:8080/"
        },
        "id": "BKNtk4dXCq-X",
        "outputId": "9f070976-0e89-419d-a88e-495bdcc86fa7"
      },
      "outputs": [
        {
          "output_type": "stream",
          "name": "stdout",
          "text": [
            "Looking in indexes: https://pypi.org/simple, https://us-python.pkg.dev/colab-wheels/public/simple/\n",
            "Requirement already satisfied: keras-layer-normalization in /usr/local/lib/python3.8/dist-packages (0.16.0)\n",
            "Requirement already satisfied: numpy in /usr/local/lib/python3.8/dist-packages (from keras-layer-normalization) (1.21.6)\n"
          ]
        }
      ],
      "source": [
        "pip install keras-layer-normalization"
      ]
    },
    {
      "cell_type": "code",
      "execution_count": 19,
      "metadata": {
        "id": "Mj0QhuyzAlHc"
      },
      "outputs": [],
      "source": [
        "import keras\n",
        "import tensorflow as tf\n",
        "from keras.models import Sequential\n",
        "from keras.layers import Dense, Activation, Dropout, Flatten,Conv2D, MaxPooling2D\n",
        "from keras.layers import normalization \n",
        "import numpy as np\n",
        "np.random.seed(1000)\n"
      ]
    },
    {
      "cell_type": "code",
      "source": [
        "from tensorflow.keras.layers import BatchNormalization"
      ],
      "metadata": {
        "id": "y_9FB2TCXATA"
      },
      "execution_count": 20,
      "outputs": []
    },
    {
      "cell_type": "code",
      "execution_count": 21,
      "metadata": {
        "id": "03yrVOThCGxC"
      },
      "outputs": [],
      "source": [
        "# Geting the data\n",
        "import tflearn.datasets.oxflower17 as oxflower17\n",
        "x,y = oxflower17.load_data(one_hot=True)"
      ]
    },
    {
      "cell_type": "code",
      "source": [
        "# (3) Create a sequential model\n",
        "model = Sequential()\n",
        "\n",
        "# 1st Convolutional Layer\n",
        "model.add(Conv2D(filters=96, input_shape=(224,224,3), kernel_size=(11,11),\\\n",
        " strides=(4,4), padding='valid'))\n",
        "model.add(Activation('relu'))\n",
        "# Pooling \n",
        "model.add(MaxPooling2D(pool_size=(2,2), strides=(2,2), padding='valid'))\n",
        "# Batch Normalisation before passing it to the next layer\n",
        "model.add(BatchNormalization())\n",
        "\n",
        "# 2nd Convolutional Layer\n",
        "model.add(Conv2D(filters=256, kernel_size=(11,11), strides=(1,1), padding='valid'))\n",
        "model.add(Activation('relu'))\n",
        "# Pooling\n",
        "model.add(MaxPooling2D(pool_size=(2,2), strides=(2,2), padding='valid'))\n",
        "# Batch Normalisation\n",
        "model.add(BatchNormalization())\n",
        "\n",
        "# 3rd Convolutional Layer\n",
        "model.add(Conv2D(filters=384, kernel_size=(3,3), strides=(1,1), padding='valid'))\n",
        "model.add(Activation('relu'))\n",
        "# Batch Normalisation\n",
        "model.add(BatchNormalization())\n",
        "\n",
        "# 4th Convolutional Layer\n",
        "model.add(Conv2D(filters=384, kernel_size=(3,3), strides=(1,1), padding='valid'))\n",
        "model.add(Activation('relu'))\n",
        "# Batch Normalisation\n",
        "model.add(BatchNormalization())\n",
        "\n",
        "# 5th Convolutional Layer\n",
        "model.add(Conv2D(filters=256, kernel_size=(3,3), strides=(1,1), padding='valid'))\n",
        "model.add(Activation('relu'))\n",
        "# Pooling\n",
        "model.add(MaxPooling2D(pool_size=(2,2), strides=(2,2), padding='valid'))\n",
        "# Batch Normalisation\n",
        "model.add(BatchNormalization())\n",
        "\n",
        "# Passing it to a dense layer\n",
        "model.add(Flatten())\n",
        "# 1st Dense Layer\n",
        "model.add(Dense(4096, input_shape=(224*224*3,)))\n",
        "model.add(Activation('relu'))\n",
        "# Add Dropout to prevent overfitting\n",
        "model.add(Dropout(0.4))\n",
        "# Batch Normalisation\n",
        "model.add(BatchNormalization())\n",
        "\n",
        "# 2nd Dense Layer\n",
        "model.add(Dense(4096))\n",
        "model.add(Activation('relu'))\n",
        "# Add Dropout\n",
        "model.add(Dropout(0.4))\n",
        "# Batch Normalisation\n",
        "model.add(BatchNormalization())\n",
        "\n",
        "# 3rd Dense Layer\n",
        "model.add(Dense(1000))\n",
        "model.add(Activation('relu'))\n",
        "# Add Dropout\n",
        "model.add(Dropout(0.4))\n",
        "# Batch Normalisation\n",
        "model.add(BatchNormalization())\n",
        "\n",
        "# Output Layer\n",
        "model.add(Dense(17))\n",
        "model.add(Activation('softmax'))\n",
        "\n",
        "model.summary()\n",
        "\n",
        "# (4) Compile \n",
        "model.compile(loss='categorical_crossentropy', optimizer='adam',\\\n",
        " metrics=['accuracy'])\n",
        "\n",
        "# (5) Train\n",
        "model.fit(x, y, batch_size=64, epochs=30, verbose=1, \\\n",
        "validation_split=0.2, shuffle=True)"
      ],
      "metadata": {
        "colab": {
          "base_uri": "https://localhost:8080/"
        },
        "id": "z7C_01RSZj5Q",
        "outputId": "98f7a1d1-1441-4e2d-866c-755b114d0ea7"
      },
      "execution_count": 22,
      "outputs": [
        {
          "output_type": "stream",
          "name": "stdout",
          "text": [
            "Model: \"sequential_6\"\n",
            "_________________________________________________________________\n",
            " Layer (type)                Output Shape              Param #   \n",
            "=================================================================\n",
            " conv2d_16 (Conv2D)          (None, 54, 54, 96)        34944     \n",
            "                                                                 \n",
            " activation_27 (Activation)  (None, 54, 54, 96)        0         \n",
            "                                                                 \n",
            " max_pooling2d_9 (MaxPooling  (None, 27, 27, 96)       0         \n",
            " 2D)                                                             \n",
            "                                                                 \n",
            " batch_normalization_24 (Bat  (None, 27, 27, 96)       384       \n",
            " chNormalization)                                                \n",
            "                                                                 \n",
            " conv2d_17 (Conv2D)          (None, 17, 17, 256)       2973952   \n",
            "                                                                 \n",
            " activation_28 (Activation)  (None, 17, 17, 256)       0         \n",
            "                                                                 \n",
            " max_pooling2d_10 (MaxPoolin  (None, 8, 8, 256)        0         \n",
            " g2D)                                                            \n",
            "                                                                 \n",
            " batch_normalization_25 (Bat  (None, 8, 8, 256)        1024      \n",
            " chNormalization)                                                \n",
            "                                                                 \n",
            " conv2d_18 (Conv2D)          (None, 6, 6, 384)         885120    \n",
            "                                                                 \n",
            " activation_29 (Activation)  (None, 6, 6, 384)         0         \n",
            "                                                                 \n",
            " batch_normalization_26 (Bat  (None, 6, 6, 384)        1536      \n",
            " chNormalization)                                                \n",
            "                                                                 \n",
            " conv2d_19 (Conv2D)          (None, 4, 4, 384)         1327488   \n",
            "                                                                 \n",
            " activation_30 (Activation)  (None, 4, 4, 384)         0         \n",
            "                                                                 \n",
            " batch_normalization_27 (Bat  (None, 4, 4, 384)        1536      \n",
            " chNormalization)                                                \n",
            "                                                                 \n",
            " conv2d_20 (Conv2D)          (None, 2, 2, 256)         884992    \n",
            "                                                                 \n",
            " activation_31 (Activation)  (None, 2, 2, 256)         0         \n",
            "                                                                 \n",
            " max_pooling2d_11 (MaxPoolin  (None, 1, 1, 256)        0         \n",
            " g2D)                                                            \n",
            "                                                                 \n",
            " batch_normalization_28 (Bat  (None, 1, 1, 256)        1024      \n",
            " chNormalization)                                                \n",
            "                                                                 \n",
            " flatten_3 (Flatten)         (None, 256)               0         \n",
            "                                                                 \n",
            " dense_12 (Dense)            (None, 4096)              1052672   \n",
            "                                                                 \n",
            " activation_32 (Activation)  (None, 4096)              0         \n",
            "                                                                 \n",
            " dropout_9 (Dropout)         (None, 4096)              0         \n",
            "                                                                 \n",
            " batch_normalization_29 (Bat  (None, 4096)             16384     \n",
            " chNormalization)                                                \n",
            "                                                                 \n",
            " dense_13 (Dense)            (None, 4096)              16781312  \n",
            "                                                                 \n",
            " activation_33 (Activation)  (None, 4096)              0         \n",
            "                                                                 \n",
            " dropout_10 (Dropout)        (None, 4096)              0         \n",
            "                                                                 \n",
            " batch_normalization_30 (Bat  (None, 4096)             16384     \n",
            " chNormalization)                                                \n",
            "                                                                 \n",
            " dense_14 (Dense)            (None, 1000)              4097000   \n",
            "                                                                 \n",
            " activation_34 (Activation)  (None, 1000)              0         \n",
            "                                                                 \n",
            " dropout_11 (Dropout)        (None, 1000)              0         \n",
            "                                                                 \n",
            " batch_normalization_31 (Bat  (None, 1000)             4000      \n",
            " chNormalization)                                                \n",
            "                                                                 \n",
            " dense_15 (Dense)            (None, 17)                17017     \n",
            "                                                                 \n",
            " activation_35 (Activation)  (None, 17)                0         \n",
            "                                                                 \n",
            "=================================================================\n",
            "Total params: 28,096,769\n",
            "Trainable params: 28,075,633\n",
            "Non-trainable params: 21,136\n",
            "_________________________________________________________________\n",
            "Train on 1088 samples, validate on 272 samples\n",
            "Epoch 1/30\n",
            "1088/1088 [==============================] - ETA: 0s - loss: 3.0792 - acc: 0.2151"
          ]
        },
        {
          "output_type": "stream",
          "name": "stderr",
          "text": [
            "/usr/local/lib/python3.8/dist-packages/keras/engine/training_v1.py:2045: UserWarning: `Model.state_updates` will be removed in a future version. This property should not be used in TensorFlow 2.0, as `updates` are applied automatically.\n",
            "  updates = self.state_updates\n"
          ]
        },
        {
          "output_type": "stream",
          "name": "stdout",
          "text": [
            "\b\b\b\b\b\b\b\b\b\b\b\b\b\b\b\b\b\b\b\b\b\b\b\b\b\b\b\b\b\b\b\b\b\b\b\b\b\b\b\b\b\b\b\b\b\b\b\b\b\b\b\b\b\b\b\b\b\b\b\b\b\b\b\b\b\b\b\b\b\b\b\b\b\b\b\b\b\b\b\b\b\r1088/1088 [==============================] - 2s 2ms/sample - loss: 3.0792 - acc: 0.2151 - val_loss: 37.7408 - val_acc: 0.0662\n",
            "Epoch 2/30\n",
            "1088/1088 [==============================] - 1s 1ms/sample - loss: 2.1096 - acc: 0.3768 - val_loss: 23.9183 - val_acc: 0.1213\n",
            "Epoch 3/30\n",
            "1088/1088 [==============================] - 1s 1ms/sample - loss: 1.7848 - acc: 0.4412 - val_loss: 8.8897 - val_acc: 0.2022\n",
            "Epoch 4/30\n",
            "1088/1088 [==============================] - 1s 1ms/sample - loss: 1.5401 - acc: 0.5092 - val_loss: 5.9265 - val_acc: 0.2096\n",
            "Epoch 5/30\n",
            "1088/1088 [==============================] - 1s 1ms/sample - loss: 1.2410 - acc: 0.5836 - val_loss: 3.8656 - val_acc: 0.2537\n",
            "Epoch 6/30\n",
            "1088/1088 [==============================] - 2s 1ms/sample - loss: 1.2673 - acc: 0.5781 - val_loss: 1.9201 - val_acc: 0.4265\n",
            "Epoch 7/30\n",
            "1088/1088 [==============================] - 1s 1ms/sample - loss: 1.1913 - acc: 0.5919 - val_loss: 2.3121 - val_acc: 0.4007\n",
            "Epoch 8/30\n",
            "1088/1088 [==============================] - 2s 1ms/sample - loss: 1.1338 - acc: 0.6222 - val_loss: 2.6236 - val_acc: 0.3419\n",
            "Epoch 9/30\n",
            "1088/1088 [==============================] - 2s 1ms/sample - loss: 1.0013 - acc: 0.6443 - val_loss: 2.3355 - val_acc: 0.4007\n",
            "Epoch 10/30\n",
            "1088/1088 [==============================] - 2s 1ms/sample - loss: 0.8090 - acc: 0.7004 - val_loss: 2.0910 - val_acc: 0.4118\n",
            "Epoch 11/30\n",
            "1088/1088 [==============================] - 1s 1ms/sample - loss: 0.9099 - acc: 0.7031 - val_loss: 3.2231 - val_acc: 0.3750\n",
            "Epoch 12/30\n",
            "1088/1088 [==============================] - 1s 1ms/sample - loss: 0.8115 - acc: 0.7344 - val_loss: 2.1528 - val_acc: 0.4449\n",
            "Epoch 13/30\n",
            "1088/1088 [==============================] - 1s 1ms/sample - loss: 0.6630 - acc: 0.7684 - val_loss: 2.9089 - val_acc: 0.4375\n",
            "Epoch 14/30\n",
            "1088/1088 [==============================] - 1s 1ms/sample - loss: 0.5268 - acc: 0.8134 - val_loss: 2.5622 - val_acc: 0.4375\n",
            "Epoch 15/30\n",
            "1088/1088 [==============================] - 1s 1ms/sample - loss: 0.4965 - acc: 0.8318 - val_loss: 3.2196 - val_acc: 0.4118\n",
            "Epoch 16/30\n",
            "1088/1088 [==============================] - 1s 1ms/sample - loss: 0.5042 - acc: 0.8208 - val_loss: 2.3324 - val_acc: 0.4779\n",
            "Epoch 17/30\n",
            "1088/1088 [==============================] - 1s 1ms/sample - loss: 0.5369 - acc: 0.8235 - val_loss: 3.1279 - val_acc: 0.4044\n",
            "Epoch 18/30\n",
            "1088/1088 [==============================] - 1s 1ms/sample - loss: 0.5453 - acc: 0.8208 - val_loss: 2.9259 - val_acc: 0.5074\n",
            "Epoch 19/30\n",
            "1088/1088 [==============================] - 1s 1ms/sample - loss: 0.4096 - acc: 0.8640 - val_loss: 2.9789 - val_acc: 0.5184\n",
            "Epoch 20/30\n",
            "1088/1088 [==============================] - 1s 1ms/sample - loss: 0.3540 - acc: 0.8768 - val_loss: 2.9633 - val_acc: 0.4926\n",
            "Epoch 21/30\n",
            "1088/1088 [==============================] - 1s 1ms/sample - loss: 0.3675 - acc: 0.8750 - val_loss: 3.0535 - val_acc: 0.5110\n",
            "Epoch 22/30\n",
            "1088/1088 [==============================] - 1s 1ms/sample - loss: 0.3169 - acc: 0.8897 - val_loss: 3.4441 - val_acc: 0.4963\n",
            "Epoch 23/30\n",
            "1088/1088 [==============================] - 1s 1ms/sample - loss: 0.2366 - acc: 0.9237 - val_loss: 3.6791 - val_acc: 0.4816\n",
            "Epoch 24/30\n",
            "1088/1088 [==============================] - 1s 1ms/sample - loss: 0.2428 - acc: 0.9164 - val_loss: 3.5753 - val_acc: 0.5257\n",
            "Epoch 25/30\n",
            "1088/1088 [==============================] - 1s 1ms/sample - loss: 0.2026 - acc: 0.9403 - val_loss: 3.7174 - val_acc: 0.5331\n",
            "Epoch 26/30\n",
            "1088/1088 [==============================] - 1s 1ms/sample - loss: 0.1993 - acc: 0.9311 - val_loss: 4.8177 - val_acc: 0.4706\n",
            "Epoch 27/30\n",
            "1088/1088 [==============================] - 1s 1ms/sample - loss: 0.1986 - acc: 0.9357 - val_loss: 3.0159 - val_acc: 0.5551\n",
            "Epoch 28/30\n",
            "1088/1088 [==============================] - 1s 1ms/sample - loss: 0.1705 - acc: 0.9485 - val_loss: 2.9780 - val_acc: 0.5588\n",
            "Epoch 29/30\n",
            "1088/1088 [==============================] - 1s 1ms/sample - loss: 0.1068 - acc: 0.9660 - val_loss: 2.7865 - val_acc: 0.5993\n",
            "Epoch 30/30\n",
            "1088/1088 [==============================] - 1s 1ms/sample - loss: 0.1087 - acc: 0.9660 - val_loss: 2.8712 - val_acc: 0.5515\n"
          ]
        },
        {
          "output_type": "execute_result",
          "data": {
            "text/plain": [
              "<keras.callbacks.History at 0x7fe424318e80>"
            ]
          },
          "metadata": {},
          "execution_count": 22
        }
      ]
    },
    {
      "cell_type": "code",
      "source": [],
      "metadata": {
        "id": "j-wM9dpGaJhA"
      },
      "execution_count": 22,
      "outputs": []
    }
  ],
  "metadata": {
    "accelerator": "GPU",
    "colab": {
      "provenance": []
    },
    "gpuClass": "standard",
    "kernelspec": {
      "display_name": "Python 3",
      "name": "python3"
    },
    "language_info": {
      "name": "python"
    }
  },
  "nbformat": 4,
  "nbformat_minor": 0
}