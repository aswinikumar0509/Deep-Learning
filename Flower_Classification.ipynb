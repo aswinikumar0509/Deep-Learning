{
  "nbformat": 4,
  "nbformat_minor": 0,
  "metadata": {
    "colab": {
      "provenance": []
    },
    "kernelspec": {
      "name": "python3",
      "display_name": "Python 3"
    },
    "language_info": {
      "name": "python"
    },
    "accelerator": "GPU",
    "gpuClass": "standard"
  },
  "cells": [
    {
      "cell_type": "code",
      "execution_count": 49,
      "metadata": {
        "id": "yRmLIJqi6kQi"
      },
      "outputs": [],
      "source": []
    },
    {
      "cell_type": "markdown",
      "source": [
        "## **Transfer learning VGG 16 and VGG 19 using Keras**"
      ],
      "metadata": {
        "id": "xLmUlL2TR4Yy"
      }
    },
    {
      "cell_type": "code",
      "source": [
        "!nvidia-smi"
      ],
      "metadata": {
        "colab": {
          "base_uri": "https://localhost:8080/"
        },
        "id": "V9oDTBx7R_5S",
        "outputId": "5eeb49cc-7994-43c3-d737-52e740f419a5"
      },
      "execution_count": 50,
      "outputs": [
        {
          "output_type": "stream",
          "name": "stdout",
          "text": [
            "Tue Feb  7 11:07:59 2023       \n",
            "+-----------------------------------------------------------------------------+\n",
            "| NVIDIA-SMI 510.47.03    Driver Version: 510.47.03    CUDA Version: 11.6     |\n",
            "|-------------------------------+----------------------+----------------------+\n",
            "| GPU  Name        Persistence-M| Bus-Id        Disp.A | Volatile Uncorr. ECC |\n",
            "| Fan  Temp  Perf  Pwr:Usage/Cap|         Memory-Usage | GPU-Util  Compute M. |\n",
            "|                               |                      |               MIG M. |\n",
            "|===============================+======================+======================|\n",
            "|   0  Tesla T4            Off  | 00000000:00:04.0 Off |                    0 |\n",
            "| N/A   59C    P0    28W /  70W |   9270MiB / 15360MiB |      0%      Default |\n",
            "|                               |                      |                  N/A |\n",
            "+-------------------------------+----------------------+----------------------+\n",
            "                                                                               \n",
            "+-----------------------------------------------------------------------------+\n",
            "| Processes:                                                                  |\n",
            "|  GPU   GI   CI        PID   Type   Process name                  GPU Memory |\n",
            "|        ID   ID                                                   Usage      |\n",
            "|=============================================================================|\n",
            "|    0   N/A  N/A    148833      C                                    9267MiB |\n",
            "+-----------------------------------------------------------------------------+\n"
          ]
        }
      ]
    },
    {
      "cell_type": "code",
      "source": [
        "import tensorflow as tf\n",
        "print(tf.__version__)"
      ],
      "metadata": {
        "colab": {
          "base_uri": "https://localhost:8080/"
        },
        "id": "QJKi-QtlSCkJ",
        "outputId": "3f562340-fdaf-4d66-c3e6-d7cb661e9916"
      },
      "execution_count": 51,
      "outputs": [
        {
          "output_type": "stream",
          "name": "stdout",
          "text": [
            "2.9.2\n"
          ]
        }
      ]
    },
    {
      "cell_type": "code",
      "source": [
        "# importing the libraries \n",
        "\n",
        "from tensorflow.keras.layers import Input, Lambda, Dense, Flatten\n",
        "from tensorflow.keras.models import Model\n",
        "from tensorflow.keras.applications.vgg16 import VGG16\n",
        "from tensorflow.keras.applications.vgg19 import VGG19\n",
        "from tensorflow.keras.preprocessing import image\n",
        "from tensorflow.keras.preprocessing.image import ImageDataGenerator,load_img\n",
        "from tensorflow.keras.models import Sequential\n",
        "import numpy as np\n",
        "from glob import glob\n"
      ],
      "metadata": {
        "id": "ylUjicaGSQvF"
      },
      "execution_count": 52,
      "outputs": []
    },
    {
      "cell_type": "code",
      "source": [
        "from google.colab import drive\n",
        "drive.mount('/content/drive')"
      ],
      "metadata": {
        "colab": {
          "base_uri": "https://localhost:8080/"
        },
        "id": "9RNB21XWS2Dr",
        "outputId": "f26fa85e-f9c0-478c-d436-6d2265079df5"
      },
      "execution_count": 53,
      "outputs": [
        {
          "output_type": "stream",
          "name": "stdout",
          "text": [
            "Drive already mounted at /content/drive; to attempt to forcibly remount, call drive.mount(\"/content/drive\", force_remount=True).\n"
          ]
        }
      ]
    },
    {
      "cell_type": "code",
      "source": [
        "# resize the image\n",
        "\n",
        "IMAGE_SIZE = [224,224]\n",
        "train_path = '/content/drive/MyDrive/Deep Learning/Flower classification/flowers/train'\n",
        "valid_path = '/content/drive/MyDrive/Deep Learning/Flower classification/flowers/validation'"
      ],
      "metadata": {
        "id": "ZAiXKw2kS_A_"
      },
      "execution_count": 54,
      "outputs": []
    },
    {
      "cell_type": "code",
      "source": [
        "# importing the VGG16 library as shoen below and add preprocessing layer to fromt of VGG\n",
        "\n",
        "vgg16 = VGG16(input_shape=IMAGE_SIZE+[3],weights='imagenet',include_top=False)\n"
      ],
      "metadata": {
        "id": "Bz-AxqjBU7HJ"
      },
      "execution_count": 55,
      "outputs": []
    },
    {
      "cell_type": "code",
      "source": [
        "for layer in vgg16.layers:\n",
        "  layer.trainable = False"
      ],
      "metadata": {
        "id": "0CvqPA3BVyXy"
      },
      "execution_count": 56,
      "outputs": []
    },
    {
      "cell_type": "code",
      "source": [
        "for layer in vgg16.layers:\n",
        "  print(layer.name,layer.trainable)"
      ],
      "metadata": {
        "colab": {
          "base_uri": "https://localhost:8080/"
        },
        "id": "P4x15D1kVyVC",
        "outputId": "e4c59f76-3718-488d-9826-b140c7b78070"
      },
      "execution_count": 57,
      "outputs": [
        {
          "output_type": "stream",
          "name": "stdout",
          "text": [
            "input_2 False\n",
            "block1_conv1 False\n",
            "block1_conv2 False\n",
            "block1_pool False\n",
            "block2_conv1 False\n",
            "block2_conv2 False\n",
            "block2_pool False\n",
            "block3_conv1 False\n",
            "block3_conv2 False\n",
            "block3_conv3 False\n",
            "block3_pool False\n",
            "block4_conv1 False\n",
            "block4_conv2 False\n",
            "block4_conv3 False\n",
            "block4_pool False\n",
            "block5_conv1 False\n",
            "block5_conv2 False\n",
            "block5_conv3 False\n",
            "block5_pool False\n"
          ]
        }
      ]
    },
    {
      "cell_type": "code",
      "source": [
        "vgg16.summary()"
      ],
      "metadata": {
        "colab": {
          "base_uri": "https://localhost:8080/"
        },
        "id": "WwSxr4PNVySt",
        "outputId": "0ca8c0cd-c18c-4db1-88af-e101e142535f"
      },
      "execution_count": 58,
      "outputs": [
        {
          "output_type": "stream",
          "name": "stdout",
          "text": [
            "Model: \"vgg16\"\n",
            "_________________________________________________________________\n",
            " Layer (type)                Output Shape              Param #   \n",
            "=================================================================\n",
            " input_2 (InputLayer)        [(None, 224, 224, 3)]     0         \n",
            "                                                                 \n",
            " block1_conv1 (Conv2D)       (None, 224, 224, 64)      1792      \n",
            "                                                                 \n",
            " block1_conv2 (Conv2D)       (None, 224, 224, 64)      36928     \n",
            "                                                                 \n",
            " block1_pool (MaxPooling2D)  (None, 112, 112, 64)      0         \n",
            "                                                                 \n",
            " block2_conv1 (Conv2D)       (None, 112, 112, 128)     73856     \n",
            "                                                                 \n",
            " block2_conv2 (Conv2D)       (None, 112, 112, 128)     147584    \n",
            "                                                                 \n",
            " block2_pool (MaxPooling2D)  (None, 56, 56, 128)       0         \n",
            "                                                                 \n",
            " block3_conv1 (Conv2D)       (None, 56, 56, 256)       295168    \n",
            "                                                                 \n",
            " block3_conv2 (Conv2D)       (None, 56, 56, 256)       590080    \n",
            "                                                                 \n",
            " block3_conv3 (Conv2D)       (None, 56, 56, 256)       590080    \n",
            "                                                                 \n",
            " block3_pool (MaxPooling2D)  (None, 28, 28, 256)       0         \n",
            "                                                                 \n",
            " block4_conv1 (Conv2D)       (None, 28, 28, 512)       1180160   \n",
            "                                                                 \n",
            " block4_conv2 (Conv2D)       (None, 28, 28, 512)       2359808   \n",
            "                                                                 \n",
            " block4_conv3 (Conv2D)       (None, 28, 28, 512)       2359808   \n",
            "                                                                 \n",
            " block4_pool (MaxPooling2D)  (None, 14, 14, 512)       0         \n",
            "                                                                 \n",
            " block5_conv1 (Conv2D)       (None, 14, 14, 512)       2359808   \n",
            "                                                                 \n",
            " block5_conv2 (Conv2D)       (None, 14, 14, 512)       2359808   \n",
            "                                                                 \n",
            " block5_conv3 (Conv2D)       (None, 14, 14, 512)       2359808   \n",
            "                                                                 \n",
            " block5_pool (MaxPooling2D)  (None, 7, 7, 512)         0         \n",
            "                                                                 \n",
            "=================================================================\n",
            "Total params: 14,714,688\n",
            "Trainable params: 0\n",
            "Non-trainable params: 14,714,688\n",
            "_________________________________________________________________\n"
          ]
        }
      ]
    },
    {
      "cell_type": "code",
      "source": [
        "folders = glob('/content/drive/MyDrive/Deep Learning/Flower classification/flowers/train/*')\n"
      ],
      "metadata": {
        "id": "XIZrAgZOVyPb"
      },
      "execution_count": 59,
      "outputs": []
    },
    {
      "cell_type": "code",
      "source": [
        "folders"
      ],
      "metadata": {
        "colab": {
          "base_uri": "https://localhost:8080/"
        },
        "id": "IsevZpF3VyKi",
        "outputId": "69773dbc-8fe2-4bc6-8293-040855ad88d7"
      },
      "execution_count": 60,
      "outputs": [
        {
          "output_type": "execute_result",
          "data": {
            "text/plain": [
              "['/content/drive/MyDrive/Deep Learning/Flower classification/flowers/train/daisy',\n",
              " '/content/drive/MyDrive/Deep Learning/Flower classification/flowers/train/sunflower',\n",
              " '/content/drive/MyDrive/Deep Learning/Flower classification/flowers/train/dandelion',\n",
              " '/content/drive/MyDrive/Deep Learning/Flower classification/flowers/train/rose',\n",
              " '/content/drive/MyDrive/Deep Learning/Flower classification/flowers/train/tulip']"
            ]
          },
          "metadata": {},
          "execution_count": 60
        }
      ]
    },
    {
      "cell_type": "code",
      "source": [
        "len(folders)"
      ],
      "metadata": {
        "colab": {
          "base_uri": "https://localhost:8080/"
        },
        "id": "F2lBy-9WWhZN",
        "outputId": "1883372c-fa3e-42fc-e472-cdf26301ee41"
      },
      "execution_count": 61,
      "outputs": [
        {
          "output_type": "execute_result",
          "data": {
            "text/plain": [
              "5"
            ]
          },
          "metadata": {},
          "execution_count": 61
        }
      ]
    },
    {
      "cell_type": "code",
      "source": [
        "model = Sequential()\n",
        "\n",
        "model.add(vgg16)\n",
        "model.add(Flatten())\n",
        "model.add(Dense(256,activation='relu'))\n",
        "model.add(Dense(5,activation = 'softmax'))"
      ],
      "metadata": {
        "id": "317n1Sp_W-59"
      },
      "execution_count": 62,
      "outputs": []
    },
    {
      "cell_type": "code",
      "source": [
        "model.summary()"
      ],
      "metadata": {
        "colab": {
          "base_uri": "https://localhost:8080/"
        },
        "id": "30_hETCrXjAF",
        "outputId": "f818bd87-073c-49ab-9e47-80b46604f47c"
      },
      "execution_count": 63,
      "outputs": [
        {
          "output_type": "stream",
          "name": "stdout",
          "text": [
            "Model: \"sequential_1\"\n",
            "_________________________________________________________________\n",
            " Layer (type)                Output Shape              Param #   \n",
            "=================================================================\n",
            " vgg16 (Functional)          (None, 7, 7, 512)         14714688  \n",
            "                                                                 \n",
            " flatten_1 (Flatten)         (None, 25088)             0         \n",
            "                                                                 \n",
            " dense_2 (Dense)             (None, 256)               6422784   \n",
            "                                                                 \n",
            " dense_3 (Dense)             (None, 5)                 1285      \n",
            "                                                                 \n",
            "=================================================================\n",
            "Total params: 21,138,757\n",
            "Trainable params: 6,424,069\n",
            "Non-trainable params: 14,714,688\n",
            "_________________________________________________________________\n"
          ]
        }
      ]
    },
    {
      "cell_type": "code",
      "source": [
        "# model what cost and optimization to be used\n",
        "\n",
        "model.compile(\n",
        "    loss = 'categorical_crossentropy',\n",
        "    optimizer='adam',\n",
        "    metrics=['accuracy']\n",
        ")"
      ],
      "metadata": {
        "id": "ZnpQoj89Xlyk"
      },
      "execution_count": 64,
      "outputs": []
    },
    {
      "cell_type": "code",
      "source": [
        "# use the image data generator to import the image from the dataset\n",
        "\n",
        "from tensorflow.keras.preprocessing.image import ImageDataGenerator\n",
        "\n",
        "train_datagen = ImageDataGenerator(rescale = 1. / 255,\n",
        "                                   shear_range = 0.2,\n",
        "                                   zoom_range = 0.2,\n",
        "                                   horizontal_flip = True\n",
        "\n",
        "                                   )\n",
        "\n",
        "# for the test image\n",
        "\n",
        "test_datagen = ImageDataGenerator(rescale = 1./255)"
      ],
      "metadata": {
        "id": "u_DPRDGGYBJi"
      },
      "execution_count": 65,
      "outputs": []
    },
    {
      "cell_type": "code",
      "source": [
        "# provide the same target size as initialized for the image size\n",
        "\n",
        "training_set  = train_datagen.flow_from_directory('/content/drive/MyDrive/Deep Learning/Flower classification/flowers/train',\n",
        "                                                  target_size = (224,224),\n",
        "                                                  batch_size = 32,\n",
        "                                                  class_mode = 'categorical'\n",
        "                                                  )"
      ],
      "metadata": {
        "colab": {
          "base_uri": "https://localhost:8080/"
        },
        "id": "koS0tL_EZAUo",
        "outputId": "bebd068d-efc8-4bac-fbef-4d4c7b00bf11"
      },
      "execution_count": 66,
      "outputs": [
        {
          "output_type": "stream",
          "name": "stdout",
          "text": [
            "Found 610 images belonging to 5 classes.\n"
          ]
        }
      ]
    },
    {
      "cell_type": "code",
      "source": [
        "test_set = test_datagen.flow_from_directory('/content/drive/MyDrive/Deep Learning/Flower classification/flowers/validation',\n",
        "                                            target_size = (224,224),\n",
        "                                            batch_size = 32,\n",
        "                                            class_mode = 'categorical')"
      ],
      "metadata": {
        "id": "PDSgWtNlZxP6",
        "colab": {
          "base_uri": "https://localhost:8080/"
        },
        "outputId": "3e13f1d7-3988-4ea9-e7b1-ce3dc3646828"
      },
      "execution_count": 67,
      "outputs": [
        {
          "output_type": "stream",
          "name": "stdout",
          "text": [
            "Found 300 images belonging to 5 classes.\n"
          ]
        }
      ]
    },
    {
      "cell_type": "code",
      "source": [
        "#fitting the model and running the cell\n",
        "\n",
        "r = model.fit(\n",
        "    training_set,\n",
        "    validation_data = test_set,\n",
        "    epochs = 30,\n",
        "    steps_per_epoch = len(training_set),\n",
        "    validation_steps = len(test_set)\n",
        "    )"
      ],
      "metadata": {
        "colab": {
          "base_uri": "https://localhost:8080/"
        },
        "id": "F089GkT8fuX-",
        "outputId": "755deaa9-3c91-4fb8-8186-16b9ba1b24f4"
      },
      "execution_count": 68,
      "outputs": [
        {
          "output_type": "stream",
          "name": "stdout",
          "text": [
            "Epoch 1/30\n",
            "20/20 [==============================] - 12s 577ms/step - loss: 4.6933 - accuracy: 0.3016 - val_loss: 1.0930 - val_accuracy: 0.6233\n",
            "Epoch 2/30\n",
            "20/20 [==============================] - 11s 548ms/step - loss: 1.0284 - accuracy: 0.5934 - val_loss: 0.8130 - val_accuracy: 0.7133\n",
            "Epoch 3/30\n",
            "20/20 [==============================] - 11s 525ms/step - loss: 0.6441 - accuracy: 0.7852 - val_loss: 1.4110 - val_accuracy: 0.5133\n",
            "Epoch 4/30\n",
            "20/20 [==============================] - 13s 634ms/step - loss: 0.6040 - accuracy: 0.7754 - val_loss: 0.8122 - val_accuracy: 0.6733\n",
            "Epoch 5/30\n",
            "20/20 [==============================] - 11s 560ms/step - loss: 0.4162 - accuracy: 0.8508 - val_loss: 0.7150 - val_accuracy: 0.7633\n",
            "Epoch 6/30\n",
            "20/20 [==============================] - 11s 559ms/step - loss: 0.3344 - accuracy: 0.9082 - val_loss: 0.7170 - val_accuracy: 0.7633\n",
            "Epoch 7/30\n",
            "20/20 [==============================] - 11s 552ms/step - loss: 0.2985 - accuracy: 0.9098 - val_loss: 0.8458 - val_accuracy: 0.7167\n",
            "Epoch 8/30\n",
            "20/20 [==============================] - 10s 523ms/step - loss: 0.2562 - accuracy: 0.9131 - val_loss: 0.7284 - val_accuracy: 0.7567\n",
            "Epoch 9/30\n",
            "20/20 [==============================] - 11s 529ms/step - loss: 0.2021 - accuracy: 0.9393 - val_loss: 0.7251 - val_accuracy: 0.7767\n",
            "Epoch 10/30\n",
            "20/20 [==============================] - 12s 603ms/step - loss: 0.1573 - accuracy: 0.9607 - val_loss: 0.8071 - val_accuracy: 0.7533\n",
            "Epoch 11/30\n",
            "20/20 [==============================] - 11s 568ms/step - loss: 0.1282 - accuracy: 0.9787 - val_loss: 0.7777 - val_accuracy: 0.7667\n",
            "Epoch 12/30\n",
            "20/20 [==============================] - 11s 574ms/step - loss: 0.1073 - accuracy: 0.9787 - val_loss: 0.8117 - val_accuracy: 0.7633\n",
            "Epoch 13/30\n",
            "20/20 [==============================] - 11s 550ms/step - loss: 0.0849 - accuracy: 0.9885 - val_loss: 0.7360 - val_accuracy: 0.7800\n",
            "Epoch 14/30\n",
            "20/20 [==============================] - 10s 544ms/step - loss: 0.0720 - accuracy: 0.9902 - val_loss: 0.7316 - val_accuracy: 0.8000\n",
            "Epoch 15/30\n",
            "20/20 [==============================] - 11s 562ms/step - loss: 0.0631 - accuracy: 0.9918 - val_loss: 0.9053 - val_accuracy: 0.7567\n",
            "Epoch 16/30\n",
            "20/20 [==============================] - 11s 555ms/step - loss: 0.1033 - accuracy: 0.9721 - val_loss: 0.8066 - val_accuracy: 0.7700\n",
            "Epoch 17/30\n",
            "20/20 [==============================] - 11s 570ms/step - loss: 0.0856 - accuracy: 0.9836 - val_loss: 0.7580 - val_accuracy: 0.7833\n",
            "Epoch 18/30\n",
            "20/20 [==============================] - 10s 522ms/step - loss: 0.0477 - accuracy: 0.9951 - val_loss: 0.8135 - val_accuracy: 0.7767\n",
            "Epoch 19/30\n",
            "20/20 [==============================] - 11s 554ms/step - loss: 0.0445 - accuracy: 0.9934 - val_loss: 0.8002 - val_accuracy: 0.7700\n",
            "Epoch 20/30\n",
            "20/20 [==============================] - 11s 557ms/step - loss: 0.0420 - accuracy: 0.9934 - val_loss: 0.7963 - val_accuracy: 0.7700\n",
            "Epoch 21/30\n",
            "20/20 [==============================] - 11s 559ms/step - loss: 0.0340 - accuracy: 1.0000 - val_loss: 0.7490 - val_accuracy: 0.7900\n",
            "Epoch 22/30\n",
            "20/20 [==============================] - 11s 549ms/step - loss: 0.0316 - accuracy: 0.9984 - val_loss: 0.7693 - val_accuracy: 0.7800\n",
            "Epoch 23/30\n",
            "20/20 [==============================] - 11s 565ms/step - loss: 0.0324 - accuracy: 0.9984 - val_loss: 0.8094 - val_accuracy: 0.7667\n",
            "Epoch 24/30\n",
            "20/20 [==============================] - 11s 567ms/step - loss: 0.0240 - accuracy: 1.0000 - val_loss: 0.8463 - val_accuracy: 0.7800\n",
            "Epoch 25/30\n",
            "20/20 [==============================] - 11s 560ms/step - loss: 0.0227 - accuracy: 0.9984 - val_loss: 0.8094 - val_accuracy: 0.7667\n",
            "Epoch 26/30\n",
            "20/20 [==============================] - 11s 550ms/step - loss: 0.0224 - accuracy: 1.0000 - val_loss: 0.7583 - val_accuracy: 0.7833\n",
            "Epoch 27/30\n",
            "20/20 [==============================] - 11s 557ms/step - loss: 0.0202 - accuracy: 0.9984 - val_loss: 0.8391 - val_accuracy: 0.7667\n",
            "Epoch 28/30\n",
            "20/20 [==============================] - 11s 564ms/step - loss: 0.0177 - accuracy: 1.0000 - val_loss: 0.7959 - val_accuracy: 0.7700\n",
            "Epoch 29/30\n",
            "20/20 [==============================] - 11s 534ms/step - loss: 0.0153 - accuracy: 1.0000 - val_loss: 0.7940 - val_accuracy: 0.7733\n",
            "Epoch 30/30\n",
            "20/20 [==============================] - 10s 516ms/step - loss: 0.0232 - accuracy: 0.9984 - val_loss: 0.8367 - val_accuracy: 0.7833\n"
          ]
        }
      ]
    },
    {
      "cell_type": "code",
      "source": [
        "import matplotlib.pyplot as plt"
      ],
      "metadata": {
        "id": "pFlv7x3uhb1Z"
      },
      "execution_count": 69,
      "outputs": []
    },
    {
      "cell_type": "code",
      "source": [
        "# plot the loss\n",
        "plt.plot(r.history['loss'],label='train loss')\n",
        "plt.plot(r.history['val_loss'],label='val loss')\n",
        "plt.legend()\n",
        "plt.show()\n",
        "plt.savefig(\"lossVal_loss\")"
      ],
      "metadata": {
        "colab": {
          "base_uri": "https://localhost:8080/",
          "height": 282
        },
        "id": "BTARPNw_hbux",
        "outputId": "0e09f470-23da-4487-db73-f17334723365"
      },
      "execution_count": 70,
      "outputs": [
        {
          "output_type": "display_data",
          "data": {
            "text/plain": [
              "<Figure size 432x288 with 1 Axes>"
            ],
            "image/png": "[encoded data removed]"
          },
          "metadata": {
            "needs_background": "light"
          }
        },
        {
          "output_type": "display_data",
          "data": {
            "text/plain": [
              "<Figure size 432x288 with 0 Axes>"
            ]
          },
          "metadata": {}
        }
      ]
    },
    {
      "cell_type": "code",
      "source": [
        "# plot the accuracy\n",
        "plt.plot(r.history['accuracy'], label='train acc')\n",
        "plt.plot(r.history['val_accuracy'], label='val acc')\n",
        "plt.legend()\n",
        "plt.show()\n",
        "plt.savefig('AccVal_acc')"
      ],
      "metadata": {
        "colab": {
          "base_uri": "https://localhost:8080/",
          "height": 282
        },
        "id": "VYOU-VAThbn8",
        "outputId": "a4a73a5b-63e2-4be3-ee8f-9fe837aafe1c"
      },
      "execution_count": 71,
      "outputs": [
        {
          "output_type": "display_data",
          "data": {
            "text/plain": [
              "<Figure size 432x288 with 1 Axes>"
            ],
            "image/png": "[encoded data removed]"
          },
          "metadata": {
            "needs_background": "light"
          }
        },
        {
          "output_type": "display_data",
          "data": {
            "text/plain": [
              "<Figure size 432x288 with 0 Axes>"
            ]
          },
          "metadata": {}
        }
      ]
    },
    {
      "cell_type": "code",
      "source": [
        "# save it as a h5 file\n",
        "from tensorflow.keras.models import load_model\n",
        "\n",
        "model.save('model_vgg16.h5')"
      ],
      "metadata": {
        "id": "cvqQKHCJhbeN"
      },
      "execution_count": 72,
      "outputs": []
    },
    {
      "cell_type": "code",
      "source": [
        "y_pred = model.predict(test_set)"
      ],
      "metadata": {
        "colab": {
          "base_uri": "https://localhost:8080/"
        },
        "id": "aAm2TDHuiCMP",
        "outputId": "6889709e-038b-4e9f-8911-857e07d64c5c"
      },
      "execution_count": 73,
      "outputs": [
        {
          "output_type": "stream",
          "name": "stdout",
          "text": [
            "10/10 [==============================] - 3s 234ms/step\n"
          ]
        }
      ]
    },
    {
      "cell_type": "code",
      "source": [
        "y_pred"
      ],
      "metadata": {
        "colab": {
          "base_uri": "https://localhost:8080/"
        },
        "id": "P6OIk1O_iFNl",
        "outputId": "4ddd6157-00ed-4322-c7e5-9b0d9a7edf01"
      },
      "execution_count": 74,
      "outputs": [
        {
          "output_type": "execute_result",
          "data": {
            "text/plain": [
              "array([[9.9091876e-01, 2.0489309e-03, 1.7891171e-03, 5.1747952e-03,\n",
              "        6.8339257e-05],\n",
              "       [5.3857799e-05, 4.9066949e-07, 2.4755638e-02, 3.3003656e-05,\n",
              "        9.7515702e-01],\n",
              "       [1.4382780e-05, 9.9596280e-01, 8.2402534e-05, 3.9396626e-03,\n",
              "        7.9440127e-07],\n",
              "       ...,\n",
              "       [7.1237463e-07, 2.7447813e-03, 2.2435594e-04, 9.9348891e-01,\n",
              "        3.5413124e-03],\n",
              "       [2.0083738e-03, 1.2646288e-01, 5.9639685e-02, 1.9837584e-02,\n",
              "        7.9205149e-01],\n",
              "       [2.6449893e-02, 6.7761849e-04, 4.7357962e-03, 9.6672910e-01,\n",
              "        1.4075466e-03]], dtype=float32)"
            ]
          },
          "metadata": {},
          "execution_count": 74
        }
      ]
    },
    {
      "cell_type": "code",
      "source": [
        "import numpy as np\n",
        "y_pred = np.argmax(y_pred, axis=1)"
      ],
      "metadata": {
        "id": "VAJAJ6DJiITE"
      },
      "execution_count": 75,
      "outputs": []
    },
    {
      "cell_type": "code",
      "source": [
        "y_pred\n"
      ],
      "metadata": {
        "colab": {
          "base_uri": "https://localhost:8080/"
        },
        "id": "TN08429IiKhj",
        "outputId": "a7f88356-f58a-433b-9f65-734ec20ef14f"
      },
      "execution_count": 76,
      "outputs": [
        {
          "output_type": "execute_result",
          "data": {
            "text/plain": [
              "array([0, 4, 1, 2, 2, 3, 2, 4, 2, 4, 2, 4, 3, 1, 1, 4, 1, 2, 3, 1, 1, 1,\n",
              "       4, 1, 0, 3, 3, 4, 4, 0, 1, 4, 2, 4, 2, 1, 2, 3, 0, 2, 1, 3, 2, 4,\n",
              "       1, 4, 2, 2, 4, 1, 1, 2, 0, 2, 1, 3, 4, 1, 3, 0, 4, 3, 2, 3, 1, 2,\n",
              "       3, 3, 3, 0, 2, 1, 1, 2, 2, 1, 2, 4, 1, 3, 1, 2, 0, 1, 2, 4, 2, 2,\n",
              "       2, 4, 3, 3, 2, 2, 0, 1, 4, 0, 4, 2, 3, 2, 2, 3, 2, 1, 0, 0, 4, 4,\n",
              "       0, 2, 2, 4, 3, 3, 1, 4, 3, 2, 3, 2, 4, 2, 0, 3, 2, 4, 1, 1, 1, 1,\n",
              "       2, 2, 2, 1, 4, 1, 4, 3, 0, 1, 3, 2, 3, 0, 1, 2, 1, 2, 3, 0, 2, 3,\n",
              "       4, 2, 3, 4, 1, 3, 3, 2, 4, 2, 3, 4, 4, 2, 3, 0, 0, 2, 2, 1, 4, 3,\n",
              "       3, 4, 2, 3, 4, 3, 2, 2, 1, 4, 0, 0, 0, 4, 3, 1, 0, 2, 2, 3, 3, 0,\n",
              "       3, 3, 1, 0, 0, 0, 1, 1, 0, 2, 4, 3, 2, 1, 2, 2, 4, 1, 2, 0, 2, 4,\n",
              "       2, 3, 3, 0, 2, 4, 4, 4, 4, 1, 4, 0, 0, 2, 0, 1, 0, 3, 4, 1, 0, 4,\n",
              "       4, 4, 1, 2, 0, 0, 0, 4, 2, 1, 2, 2, 3, 1, 1, 4, 2, 2, 0, 0, 4, 1,\n",
              "       0, 1, 1, 2, 3, 3, 2, 1, 3, 4, 0, 4, 0, 4, 4, 0, 4, 3, 0, 4, 4, 2,\n",
              "       1, 3, 3, 3, 3, 0, 4, 2, 0, 1, 2, 3, 4, 3])"
            ]
          },
          "metadata": {},
          "execution_count": 76
        }
      ]
    },
    {
      "cell_type": "code",
      "source": [
        "from tensorflow.keras.models import load_model\n",
        "from tensorflow.keras.preprocessing import image"
      ],
      "metadata": {
        "id": "Xg0EUhGHiWas"
      },
      "execution_count": 77,
      "outputs": []
    },
    {
      "cell_type": "code",
      "source": [
        "model=load_model('model_vgg16.h5')"
      ],
      "metadata": {
        "id": "f54dhnA0iW98"
      },
      "execution_count": 78,
      "outputs": []
    },
    {
      "cell_type": "code",
      "source": [
        "img=image.load_img('/content/drive/MyDrive/Deep Learning/Flower classification/flowers/tupil_image.jpg',target_size=(224,224))"
      ],
      "metadata": {
        "id": "35ZSygXFiY2A"
      },
      "execution_count": 79,
      "outputs": []
    },
    {
      "cell_type": "code",
      "source": [
        "x=image.img_to_array(img)\n",
        "x"
      ],
      "metadata": {
        "colab": {
          "base_uri": "https://localhost:8080/"
        },
        "id": "lR6l8u_ciapo",
        "outputId": "2f68c400-d7bd-48a4-b39d-a88bdfe93b05"
      },
      "execution_count": 80,
      "outputs": [
        {
          "output_type": "execute_result",
          "data": {
            "text/plain": [
              "array([[[221., 204.,   0.],\n",
              "        [223., 206.,   2.],\n",
              "        [223., 207.,   0.],\n",
              "        ...,\n",
              "        [ 31.,  62.,   2.],\n",
              "        [ 35.,  65.,   1.],\n",
              "        [ 36.,  66.,   2.]],\n",
              "\n",
              "       [[220., 203.,   1.],\n",
              "        [221., 204.,   2.],\n",
              "        [222., 205.,   1.],\n",
              "        ...,\n",
              "        [ 30.,  61.,   1.],\n",
              "        [ 34.,  64.,   2.],\n",
              "        [ 34.,  64.,   2.]],\n",
              "\n",
              "       [[218., 201.,   0.],\n",
              "        [221., 204.,   3.],\n",
              "        [220., 203.,   1.],\n",
              "        ...,\n",
              "        [ 30.,  61.,   1.],\n",
              "        [ 35.,  65.,   5.],\n",
              "        [ 32.,  62.,   2.]],\n",
              "\n",
              "       ...,\n",
              "\n",
              "       [[ 18.,  59.,   3.],\n",
              "        [ 23.,  65.,   1.],\n",
              "        [ 21.,  63.,   0.],\n",
              "        ...,\n",
              "        [ 90., 105.,   2.],\n",
              "        [ 87., 104.,   0.],\n",
              "        [ 86., 102.,   3.]],\n",
              "\n",
              "       [[ 17.,  58.,   2.],\n",
              "        [ 22.,  64.,   0.],\n",
              "        [ 22.,  64.,   1.],\n",
              "        ...,\n",
              "        [ 89., 104.,   1.],\n",
              "        [ 87., 104.,   0.],\n",
              "        [ 84., 100.,   1.]],\n",
              "\n",
              "       [[ 16.,  57.,   1.],\n",
              "        [ 23.,  65.,   1.],\n",
              "        [ 26.,  68.,   5.],\n",
              "        ...,\n",
              "        [ 87., 102.,   0.],\n",
              "        [ 86., 103.,   0.],\n",
              "        [ 85., 101.,   2.]]], dtype=float32)"
            ]
          },
          "metadata": {},
          "execution_count": 80
        }
      ]
    },
    {
      "cell_type": "code",
      "source": [
        "Z = plt.imread('/content/drive/MyDrive/Deep Learning/Flower classification/flowers/tupil_image.jpg')\n",
        "plt.imshow(Z)"
      ],
      "metadata": {
        "colab": {
          "base_uri": "https://localhost:8080/",
          "height": 278
        },
        "id": "KMBkYQW5jHOd",
        "outputId": "aac1b139-fe8f-4d50-fd93-869f7ab80629"
      },
      "execution_count": 81,
      "outputs": [
        {
          "output_type": "execute_result",
          "data": {
            "text/plain": [
              "<matplotlib.image.AxesImage at 0x7fe8ef402c40>"
            ]
          },
          "metadata": {},
          "execution_count": 81
        },
        {
          "output_type": "display_data",
          "data": {
            "text/plain": [
              "<Figure size 432x288 with 1 Axes>"
            ],
            "image/png": "[encoded data removed]"
          },
          "metadata": {
            "needs_background": "light"
          }
        }
      ]
    },
    {
      "cell_type": "code",
      "source": [
        "x.shape"
      ],
      "metadata": {
        "colab": {
          "base_uri": "https://localhost:8080/"
        },
        "id": "MCb8hzjXjJx6",
        "outputId": "4afb4a92-cb03-4426-87ca-09caab309821"
      },
      "execution_count": 82,
      "outputs": [
        {
          "output_type": "execute_result",
          "data": {
            "text/plain": [
              "(224, 224, 3)"
            ]
          },
          "metadata": {},
          "execution_count": 82
        }
      ]
    },
    {
      "cell_type": "code",
      "source": [
        "x=x/255"
      ],
      "metadata": {
        "id": "xtZFFAHSjUPs"
      },
      "execution_count": 83,
      "outputs": []
    },
    {
      "cell_type": "code",
      "source": [
        "from keras.applications.vgg16 import preprocess_input\n",
        "import numpy as np\n",
        "x=np.expand_dims(x,axis=0)\n",
        "img_data=preprocess_input(x)\n",
        "img_data.shape"
      ],
      "metadata": {
        "colab": {
          "base_uri": "https://localhost:8080/"
        },
        "id": "RcnQL3y1jVwE",
        "outputId": "2acac31a-8837-4a6e-bcb0-37813374e518"
      },
      "execution_count": 84,
      "outputs": [
        {
          "output_type": "execute_result",
          "data": {
            "text/plain": [
              "(1, 224, 224, 3)"
            ]
          },
          "metadata": {},
          "execution_count": 84
        }
      ]
    },
    {
      "cell_type": "code",
      "source": [
        "model.predict(img_data)"
      ],
      "metadata": {
        "colab": {
          "base_uri": "https://localhost:8080/"
        },
        "id": "gO2xc5-8jbvw",
        "outputId": "17d53aaf-58eb-49ee-bf5f-bba48e820a12"
      },
      "execution_count": 85,
      "outputs": [
        {
          "output_type": "stream",
          "name": "stdout",
          "text": [
            "1/1 [==============================] - 0s 147ms/step\n"
          ]
        },
        {
          "output_type": "execute_result",
          "data": {
            "text/plain": [
              "array([[8.6478317e-01, 4.9228467e-02, 6.2609419e-02, 2.3378987e-02,\n",
              "        4.7058553e-08]], dtype=float32)"
            ]
          },
          "metadata": {},
          "execution_count": 85
        }
      ]
    },
    {
      "cell_type": "code",
      "source": [
        "a=np.argmax(model.predict(img_data), axis=1)"
      ],
      "metadata": {
        "colab": {
          "base_uri": "https://localhost:8080/"
        },
        "id": "ne5qCxc3jeKA",
        "outputId": "52493ada-14ce-4568-e62d-236347e6567e"
      },
      "execution_count": 86,
      "outputs": [
        {
          "output_type": "stream",
          "name": "stdout",
          "text": [
            "1/1 [==============================] - 0s 18ms/step\n"
          ]
        }
      ]
    },
    {
      "cell_type": "code",
      "source": [
        "a"
      ],
      "metadata": {
        "colab": {
          "base_uri": "https://localhost:8080/"
        },
        "id": "_j7GV_V0jg7-",
        "outputId": "f7b093ea-3c0d-4869-8323-42dd80e1d7f2"
      },
      "execution_count": 87,
      "outputs": [
        {
          "output_type": "execute_result",
          "data": {
            "text/plain": [
              "array([0])"
            ]
          },
          "metadata": {},
          "execution_count": 87
        }
      ]
    },
    {
      "cell_type": "code",
      "source": [
        "flower_name = ['tulip',\n",
        " 'sunflower',\n",
        " 'dandelion',\n",
        " 'daisy',\n",
        " 'rose']"
      ],
      "metadata": {
        "id": "n3Y7_W_tjiv9"
      },
      "execution_count": 91,
      "outputs": []
    },
    {
      "cell_type": "code",
      "source": [
        "folders[a[0]]"
      ],
      "metadata": {
        "colab": {
          "base_uri": "https://localhost:8080/",
          "height": 36
        },
        "id": "WyKBi1jmjlg-",
        "outputId": "ed05b368-d09c-4f96-801f-4ca2f28f10f2"
      },
      "execution_count": 92,
      "outputs": [
        {
          "output_type": "execute_result",
          "data": {
            "text/plain": [
              "'/content/drive/MyDrive/Deep Learning/Flower classification/flowers/train/daisy'"
            ],
            "application/vnd.google.colaboratory.intrinsic+json": {
              "type": "string"
            }
          },
          "metadata": {},
          "execution_count": 92
        }
      ]
    },
    {
      "cell_type": "code",
      "source": [
        "flower_name[a[0]]"
      ],
      "metadata": {
        "colab": {
          "base_uri": "https://localhost:8080/",
          "height": 36
        },
        "id": "i7Qlm55qj1_7",
        "outputId": "66fceae3-513f-43ff-9126-d505a08062e3"
      },
      "execution_count": 93,
      "outputs": [
        {
          "output_type": "execute_result",
          "data": {
            "text/plain": [
              "'tulip'"
            ],
            "application/vnd.google.colaboratory.intrinsic+json": {
              "type": "string"
            }
          },
          "metadata": {},
          "execution_count": 93
        }
      ]
    },
    {
      "cell_type": "code",
      "source": [],
      "metadata": {
        "id": "AACc1-jXn2oU"
      },
      "execution_count": null,
      "outputs": []
    }
  ]
}